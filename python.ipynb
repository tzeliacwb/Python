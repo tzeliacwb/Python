{
  "nbformat": 4,
  "nbformat_minor": 0,
  "metadata": {
    "colab": {
      "provenance": [],
      "authorship_tag": "ABX9TyPMdMIjmrUJNb5tadCn5x3s",
      "include_colab_link": true
    },
    "kernelspec": {
      "name": "python3",
      "display_name": "Python 3"
    },
    "language_info": {
      "name": "python"
    }
  },
  "cells": [
    {
      "cell_type": "markdown",
      "metadata": {
        "id": "view-in-github",
        "colab_type": "text"
      },
      "source": [
        "<a href=\"https://colab.research.google.com/github/tzeliacwb/Python/blob/main/python.ipynb\" target=\"_parent\"><img src=\"https://colab.research.google.com/assets/colab-badge.svg\" alt=\"Open In Colab\"/></a>"
      ]
    },
    {
      "cell_type": "code",
      "source": [
        "print(\"predador morre\")"
      ],
      "metadata": {
        "id": "8UGxswzLnUQY",
        "outputId": "449e5dc1-c031-4216-f600-b18bd82cb55b",
        "colab": {
          "base_uri": "https://localhost:8080/"
        }
      },
      "execution_count": 4,
      "outputs": [
        {
          "output_type": "stream",
          "name": "stdout",
          "text": [
            "predador morre\n"
          ]
        }
      ]
    },
    {
      "cell_type": "code",
      "source": [
        "ano = \"2025\""
      ],
      "metadata": {
        "id": "5okdLXSBnWwy"
      },
      "execution_count": 5,
      "outputs": []
    },
    {
      "cell_type": "code",
      "source": [
        "print(ano, \"predador ataca\")"
      ],
      "metadata": {
        "id": "Gayy2DhqnjYi",
        "outputId": "c2c28575-6906-4fc4-878a-9fa618045975",
        "colab": {
          "base_uri": "https://localhost:8080/"
        }
      },
      "execution_count": 6,
      "outputs": [
        {
          "output_type": "stream",
          "name": "stdout",
          "text": [
            "2025 predador ataca\n"
          ]
        }
      ]
    },
    {
      "cell_type": "code",
      "source": [
        "print(f\"{ano} lança demais\")"
      ],
      "metadata": {
        "id": "3IeUqhHSnlsF",
        "outputId": "1610ebb3-dbdc-48c0-ad96-78b395389400",
        "colab": {
          "base_uri": "https://localhost:8080/"
        }
      },
      "execution_count": 9,
      "outputs": [
        {
          "output_type": "stream",
          "name": "stdout",
          "text": [
            "2025 lança demais\n"
          ]
        }
      ]
    },
    {
      "cell_type": "code",
      "execution_count": null,
      "metadata": {
        "id": "fdw_jBqPiDo_",
        "outputId": "c8ef91ef-e906-4b2d-d5cd-90b9612ea0ff",
        "colab": {
          "base_uri": "https://localhost:8080/"
        }
      },
      "outputs": [
        {
          "output_type": "stream",
          "name": "stdout",
          "text": [
            "a soma de livros lidos por rodrigo apos 3 dias e 72\n",
            "a soma de rodrigo são 24\n",
            "total de livros lidos por rodrigo e 3\n"
          ]
        }
      ],
      "source": [
        "ficcao=10\n",
        "nficcao=8\n",
        "infantil=6\n",
        "\n",
        "livros_lidos=3;\n",
        "\n",
        "pontos = (ficcao + nficcao + infantil)\n",
        "pontos_totais = (ficcao*3+nficcao*3+infantil*3)\n",
        "print(f\"a soma de livros lidos por rodrigo apos 3 dias e {pontos_totais}\")\n",
        "\n",
        "print(f\"a soma de rodrigo são {pontos}\")\n",
        "\n",
        "print(f\"total de livros lidos por rodrigo e {livros_lidos}\")"
      ]
    },
    {
      "cell_type": "markdown",
      "source": [
        "TESTE - PYTHON\n",
        "\n",
        "Elaborar um sistema de aprovação de estudantes;\n",
        "\n",
        "Nota >= 7 aprovado;\n",
        "Nota <7 e >4 recuperação;\n",
        "Nota < 4 reprovado;"
      ],
      "metadata": {
        "id": "08fcO4liid4P"
      }
    }
  ]
}