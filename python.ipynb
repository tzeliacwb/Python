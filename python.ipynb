{
  "nbformat": 4,
  "nbformat_minor": 0,
  "metadata": {
    "colab": {
      "provenance": [],
      "authorship_tag": "ABX9TyMysW8rRfQCy1D9PzTFe4xo",
      "include_colab_link": true
    },
    "kernelspec": {
      "name": "python3",
      "display_name": "Python 3"
    },
    "language_info": {
      "name": "python"
    }
  },
  "cells": [
    {
      "cell_type": "markdown",
      "metadata": {
        "id": "view-in-github",
        "colab_type": "text"
      },
      "source": [
        "<a href=\"https://colab.research.google.com/github/tzeliacwb/Python/blob/main/python.ipynb\" target=\"_parent\"><img src=\"https://colab.research.google.com/assets/colab-badge.svg\" alt=\"Open In Colab\"/></a>"
      ]
    },
    {
      "cell_type": "code",
      "execution_count": 5,
      "metadata": {
        "id": "fdw_jBqPiDo_",
        "outputId": "c8ef91ef-e906-4b2d-d5cd-90b9612ea0ff",
        "colab": {
          "base_uri": "https://localhost:8080/"
        }
      },
      "outputs": [
        {
          "output_type": "stream",
          "name": "stdout",
          "text": [
            "a soma de livros lidos por rodrigo apos 3 dias e 72\n",
            "a soma de rodrigo são 24\n",
            "total de livros lidos por rodrigo e 3\n"
          ]
        }
      ],
      "source": [
        "ficcao=10\n",
        "nficcao=8\n",
        "infantil=6\n",
        "\n",
        "livros_lidos=3;\n",
        "\n",
        "pontos = (ficcao + nficcao + infantil)\n",
        "pontos_totais = (ficcao*3+nficcao*3+infantil*3)\n",
        "print(f\"a soma de livros lidos por rodrigo apos 3 dias e {pontos_totais}\")\n",
        "\n",
        "print(f\"a soma de rodrigo são {pontos}\")\n",
        "\n",
        "print(f\"total de livros lidos por rodrigo e {livros_lidos}\")"
      ]
    }
  ]
}